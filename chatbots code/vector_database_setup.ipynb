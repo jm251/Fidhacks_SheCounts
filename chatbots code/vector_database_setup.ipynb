{
 "cells": [
  {
   "cell_type": "code",
   "execution_count": null,
   "metadata": {},
   "outputs": [],
   "source": [
    "!pip install pinecone\n",
    "!pip install transformers\n",
    "!pip install sentence-transformers"
   ]
  },
  {
   "cell_type": "code",
   "execution_count": null,
   "metadata": {},
   "outputs": [],
   "source": [
    "import pandas as pd\n",
    "data = pd.read_csv('fincancial_literacy_resources.csv')"
   ]
  },
  {
   "cell_type": "code",
   "execution_count": null,
   "metadata": {},
   "outputs": [],
   "source": [
    "from sentence_transformers import SentenceTransformer\n",
    "\n",
    "model = SentenceTransformer('distilbert-base-nli-stsb-mean-tokens')\n",
    "\n",
    "embeddings = model.encode(desc)\n",
    "\n",
    "embeddings"
   ]
  },
  {
   "cell_type": "code",
   "execution_count": null,
   "metadata": {},
   "outputs": [],
   "source": [
    "from pinecone import Pinecone, ServerlessSpec\n",
    "\n",
    "pc = Pinecone(api_key='API Key')\n",
    "\n",
    "index_name = \"fidhacks\"\n",
    "dimension = 768  # Dimension of DistilBERT embeddings\n",
    "\n",
    "if index_name not in pc.list_indexes().names():\n",
    "  pc.create_index(\n",
    "      name=index_name,\n",
    "      dimension=dimension,\n",
    "      metric=\"cosine\",\n",
    "      spec=ServerlessSpec(\n",
    "          cloud='aws',\n",
    "          region='us-east-1'\n",
    "      )\n",
    "  )"
   ]
  },
  {
   "cell_type": "code",
   "execution_count": null,
   "metadata": {},
   "outputs": [],
   "source": [
    "vectors_with_metadata = [\n",
    "    {\n",
    "        \"id\": str(i),\n",
    "        \"values\": embedding,\n",
    "        \"metadata\": {\n",
    "            \"title\": row[\"Title\"],\n",
    "            \"description\": row[\"Description\"],\n",
    "            \"link\": row[\"Link\"]\n",
    "        }\n",
    "    }\n",
    "    for i, (embedding, row) in enumerate(zip(embeddings, data.to_dict(orient=\"records\")))\n",
    "]"
   ]
  },
  {
   "cell_type": "code",
   "execution_count": null,
   "metadata": {},
   "outputs": [],
   "source": [
    "index = pc.Index(index_name)\n",
    "index.upsert(vectors=vectors_with_metadata, namespace=\"auto_loan_resources\")"
   ]
  },
  {
   "cell_type": "code",
   "execution_count": null,
   "metadata": {},
   "outputs": [],
   "source": [
    "test_vect = model.encode(\"\"\"You can take a first step toward learning more\n",
    "about your credit history by checking your credit\n",
    "scores and credit reports. The good news is you are\n",
    "increasingly able to see your credit scores for free.\n",
    "To raise awareness of how you can access and\n",
    "use your scores, the CFPB is releasing a list of\n",
    "companies that offer their credit card customers\n",
    "free access to one of their credit scores.\"\"\")\n",
    "test_vect[0]"
   ]
  },
  {
   "cell_type": "code",
   "execution_count": null,
   "metadata": {},
   "outputs": [],
   "source": [
    "# Query the Pinecone index\n",
    "query_results = index.query(\n",
    "    namespace=\"auto_loan_resources\",\n",
    "    vector=test_vect.tolist(),\n",
    "    top_k=1,\n",
    "    include_values=True,\n",
    "    include_metadata=True\n",
    ")\n",
    "\n",
    "# Print the query results\n",
    "print(query_results)\n",
    "\n",
    "if query_results.matches:\n",
    "    top_match_metadata = query_results.matches[0].metadata\n",
    "    print(\"Top Match Metadata:\")\n",
    "    print(\"Title:\", top_match_metadata.get(\"title\"))\n",
    "    print(\"Description:\", top_match_metadata.get(\"description\"))\n",
    "    print(\"Link:\", top_match_metadata.get(\"link\"))\n",
    "else:\n",
    "    print(\"No matches found.\")"
   ]
  }
 ],
 "metadata": {
  "language_info": {
   "name": "python"
  }
 },
 "nbformat": 4,
 "nbformat_minor": 2
}
